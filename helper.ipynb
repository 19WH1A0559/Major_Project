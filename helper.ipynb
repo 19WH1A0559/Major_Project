{
 "cells": [
  {
   "cell_type": "code",
   "execution_count": 2,
   "id": "775604a1",
   "metadata": {},
   "outputs": [
    {
     "name": "stdout",
     "output_type": "stream",
     "text": [
      "Note: you may need to restart the kernel to use updated packages.Collecting moviepy\n",
      "  Downloading moviepy-1.0.3.tar.gz (388 kB)\n",
      "     ------------------------------------ 388.3/388.3 kB 216.0 kB/s eta 0:00:00\n",
      "  Preparing metadata (setup.py): started\n",
      "  Preparing metadata (setup.py): finished with status 'done'\n",
      "Collecting decorator<5.0,>=4.0.2\n",
      "  Downloading decorator-4.4.2-py2.py3-none-any.whl (9.2 kB)\n",
      "Requirement already satisfied: tqdm<5.0,>=4.11.2 in d:\\new folder\\lib\\site-packages (from moviepy) (4.65.0)\n",
      "Requirement already satisfied: requests<3.0,>=2.8.1 in d:\\new folder\\lib\\site-packages (from moviepy) (2.28.1)\n",
      "Collecting proglog<=1.0.0\n",
      "  Downloading proglog-0.1.10-py3-none-any.whl (6.1 kB)\n",
      "Requirement already satisfied: numpy>=1.17.3 in d:\\new folder\\lib\\site-packages (from moviepy) (1.23.5)\n",
      "Requirement already satisfied: imageio<3.0,>=2.5 in d:\\new folder\\lib\\site-packages (from moviepy) (2.27.0)\n",
      "Collecting imageio_ffmpeg>=0.2.0\n",
      "  Downloading imageio_ffmpeg-0.4.8-py3-none-win_amd64.whl (22.6 MB)\n",
      "     -------------------------------------- 22.6/22.6 MB 110.0 kB/s eta 0:00:00\n",
      "Requirement already satisfied: pillow>=8.3.2 in d:\\new folder\\lib\\site-packages (from imageio<3.0,>=2.5->moviepy) (9.4.0)\n",
      "Requirement already satisfied: certifi>=2017.4.17 in d:\\new folder\\lib\\site-packages (from requests<3.0,>=2.8.1->moviepy) (2022.12.7)\n",
      "Requirement already satisfied: urllib3<1.27,>=1.21.1 in d:\\new folder\\lib\\site-packages (from requests<3.0,>=2.8.1->moviepy) (1.26.15)\n",
      "Requirement already satisfied: charset-normalizer<3,>=2 in d:\\new folder\\lib\\site-packages (from requests<3.0,>=2.8.1->moviepy) (2.0.4)\n",
      "Requirement already satisfied: idna<4,>=2.5 in d:\\new folder\\lib\\site-packages (from requests<3.0,>=2.8.1->moviepy) (3.4)\n",
      "Requirement already satisfied: colorama in d:\\new folder\\lib\\site-packages (from tqdm<5.0,>=4.11.2->moviepy) (0.4.6)\n",
      "Building wheels for collected packages: moviepy\n",
      "  Building wheel for moviepy (setup.py): started\n",
      "  Building wheel for moviepy (setup.py): finished with status 'done'\n",
      "  Created wheel for moviepy: filename=moviepy-1.0.3-py3-none-any.whl size=110773 sha256=69c977e6f66c6b9670e1ac3229c2843ff916c31d446eeceee732d893453a454b\n",
      "  Stored in directory: c:\\users\\91984\\appdata\\local\\pip\\cache\\wheels\\05\\c3\\60\\ff37aa492e097b78c495e049d4ec5dbd5be98bd9b36eb1f0b1\n",
      "Successfully built moviepy\n",
      "Installing collected packages: imageio_ffmpeg, decorator, proglog, moviepy\n",
      "  Attempting uninstall: decorator\n",
      "    Found existing installation: decorator 5.1.1\n",
      "    Uninstalling decorator-5.1.1:\n",
      "      Successfully uninstalled decorator-5.1.1\n",
      "Successfully installed decorator-4.4.2 imageio_ffmpeg-0.4.8 moviepy-1.0.3 proglog-0.1.10\n",
      "\n"
     ]
    }
   ],
   "source": [
    "pip install moviepy"
   ]
  },
  {
   "cell_type": "code",
   "execution_count": 33,
   "id": "1fb0b5fa",
   "metadata": {
    "scrolled": true
   },
   "outputs": [],
   "source": [
    "from moviepy.video.io.VideoFileClip import VideoFileClip\n",
    "from PIL import Image"
   ]
  },
  {
   "cell_type": "code",
   "execution_count": 34,
   "id": "4a696dc5",
   "metadata": {},
   "outputs": [],
   "source": [
    "video_file = \"D:/videos/I am fine(3).mp4\""
   ]
  },
  {
   "cell_type": "code",
   "execution_count": 35,
   "id": "ffb90a39",
   "metadata": {},
   "outputs": [],
   "source": [
    "output_dir = \"D:/I am fine(2)\"\n",
    "filename_prefix = \"frame\""
   ]
  },
  {
   "cell_type": "code",
   "execution_count": 36,
   "id": "47b1af0f",
   "metadata": {},
   "outputs": [],
   "source": [
    "# Load the video file using moviepy\n",
    "video_clip = VideoFileClip(video_file)"
   ]
  },
  {
   "cell_type": "code",
   "execution_count": 31,
   "id": "17e4e141",
   "metadata": {},
   "outputs": [],
   "source": [
    "# frame_count = 0\n",
    "# for frame in video_clip.iter_frames():\n",
    "#     # Construct the filename for the output frame\n",
    "#     filename = f\"{filename_prefix}{frame_count}.jpg\"\n",
    "#     output_path = f\"{output_dir}/{filename}\"\n",
    "\n",
    "#     # Convert the frame to a PIL Image object\n",
    "#     image = Image.fromarray(frame)\n",
    "\n",
    "#     # Save the image to the output file\n",
    "#     image.save(output_path)\n",
    "\n",
    "#     # Increment the frame count\n",
    "#     frame_count += 1\n",
    "\n",
    "# # Release the video clip\n",
    "# video_clip.reader.close()"
   ]
  },
  {
   "cell_type": "code",
   "execution_count": 37,
   "id": "73824ca4",
   "metadata": {},
   "outputs": [],
   "source": [
    "frame_count = 0\n",
    "fps = 15 # Set the desired frame rate\n",
    "\n",
    "for frame in video_clip.iter_frames(fps=fps):\n",
    "    # Construct the filename for the output frame\n",
    "    filename = f\"{filename_prefix}{frame_count}.jpg\"\n",
    "    output_path = f\"{output_dir}/{filename}\"\n",
    "\n",
    "    # Convert the frame to a PIL Image object\n",
    "    image = Image.fromarray(frame)\n",
    "\n",
    "    # Save the image to the output file\n",
    "    image.save(output_path)\n",
    "\n",
    "    # Increment the frame count\n",
    "    frame_count += 1\n",
    "\n",
    "# Release the video clip\n",
    "video_clip.reader.close()"
   ]
  },
  {
   "cell_type": "code",
   "execution_count": null,
   "id": "ee32bc84",
   "metadata": {},
   "outputs": [],
   "source": []
  }
 ],
 "metadata": {
  "kernelspec": {
   "display_name": "Python 3 (ipykernel)",
   "language": "python",
   "name": "python3"
  },
  "language_info": {
   "codemirror_mode": {
    "name": "ipython",
    "version": 3
   },
   "file_extension": ".py",
   "mimetype": "text/x-python",
   "name": "python",
   "nbconvert_exporter": "python",
   "pygments_lexer": "ipython3",
   "version": "3.10.9"
  }
 },
 "nbformat": 4,
 "nbformat_minor": 5
}
